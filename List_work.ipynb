{
  "nbformat": 4,
  "nbformat_minor": 0,
  "metadata": {
    "colab": {
      "provenance": [],
      "authorship_tag": "ABX9TyMY4xYLDvgwdmU2zimtBV4Q",
      "include_colab_link": true
    },
    "kernelspec": {
      "name": "python3",
      "display_name": "Python 3"
    },
    "language_info": {
      "name": "python"
    }
  },
  "cells": [
    {
      "cell_type": "markdown",
      "metadata": {
        "id": "view-in-github",
        "colab_type": "text"
      },
      "source": [
        "<a href=\"https://colab.research.google.com/github/Nextlvlanalytics/algorithms/blob/main/List_work.ipynb\" target=\"_parent\"><img src=\"https://colab.research.google.com/assets/colab-badge.svg\" alt=\"Open In Colab\"/></a>"
      ]
    },
    {
      "cell_type": "code",
      "execution_count": 1,
      "metadata": {
        "id": "la9EKjPUgqi9"
      },
      "outputs": [],
      "source": [
        "import pandas as pd\n",
        "import numpy as np\n",
        "import random as random"
      ]
    },
    {
      "cell_type": "code",
      "source": [
        "def dataProcessor(df:pd.DataFrame, cats, values):\n",
        "    master_list = []\n",
        "    md = {}\n",
        "    categories = df[cats].unique() \n",
        "\n",
        "    for category in categories:\n",
        "        tmp = df[df[cats] == category]\n",
        "        ltmp = list(set(tmp[values]))\n",
        "        master_list.append(ltmp)\n",
        "\n",
        "    for lst in master_list:\n",
        "        key = master_list.index(lst)\n",
        "        value = lst\n",
        "        md[key] = value\n",
        "\n",
        "    return md\n"
      ],
      "metadata": {
        "id": "0dGWMVWciFO2"
      },
      "execution_count": 2,
      "outputs": []
    },
    {
      "cell_type": "code",
      "source": [
        "# mlst = []\n",
        "\n",
        "# for i in range(10):\n",
        "\n",
        "#   rdm = random.randint(1,8)\n",
        "#   lst = []\n",
        "#   for j in range(rdm):\n",
        "\n",
        "#     lst.append(random.randint(a=100000, b=999999))\n",
        "  \n",
        "#   rdm = random.randint(1,8)\n",
        "#   mlst.append(lst)\n",
        "\n",
        "\n",
        "# receipts = {mlst.index(lst):lst for lst in mlst}\n",
        "\n",
        "\n"
      ],
      "metadata": {
        "id": "L5yJpzlS-x1l"
      },
      "execution_count": 3,
      "outputs": []
    },
    {
      "cell_type": "code",
      "source": [
        "# mlst = []\n",
        "\n",
        "# for i in range(11,21):\n",
        "\n",
        "#   rdm = random.randint(1,8)\n",
        "#   lst = []\n",
        "#   for j in range(rdm):\n",
        "\n",
        "#     lst.append(random.randint(a=100000, b=999999))\n",
        "  \n",
        "#   rdm = random.randint(1,8)\n",
        "#   mlst.append(lst)\n",
        "\n",
        "\n",
        "# unvouchered = {mlst.index(lst)+10:lst for lst in mlst}\n",
        "\n",
        "# unvouchered.update(receipts)\n",
        "# # unvouchered.pop(0)\n",
        "# # unvouchered.pop(5)\n",
        "# # unvouchered.pop(6)\n",
        "# # unvouchered.pop(7)\n",
        "# # unvouchered.pop(8)\n",
        "# # unvouchered.pop(3)\n"
      ],
      "metadata": {
        "id": "cs5CYgK5DCnH"
      },
      "execution_count": 12,
      "outputs": []
    },
    {
      "cell_type": "code",
      "source": [
        "unvouchered = {10: [224893],\n",
        " 11: [132109, 840102, 866152, 809401, 558776, 221700, 682223, 540772],\n",
        " 12: [721741, 184054, 957796, 327324, 423214],\n",
        " 13: [514419, 182790, 825516, 162106, 879885, 385059],\n",
        " 14: [933151],\n",
        " 15: [111190, 614361, 287690, 938624, 431609],\n",
        " 16: [540653],\n",
        " 17: [141538, 576858],\n",
        " 18: [274720, 368494, 462421, 622329],\n",
        " 19: [474403, 509709, 913892, 989464],\n",
        " 1: [920013],\n",
        " 2: [362659],\n",
        " 4: [900047, 157216, 810680],\n",
        " 9: [439139, 287976, 831879, 498380, 795880, 637137]}"
      ],
      "metadata": {
        "id": "vz4LqfqGFC3r"
      },
      "execution_count": 20,
      "outputs": []
    },
    {
      "cell_type": "code",
      "source": [
        "receipts = {0: [471305, 147156],\n",
        " 1: [920013],\n",
        " 2: [362659],\n",
        " 3: [912228, 994440, 795692, 461620, 605674, 483547, 750505, 775702],\n",
        " 4: [900047, 157216, 810680, 774590, 185209, 590272, 270048, 803467],\n",
        " 5: [877793, 189178, 360703],\n",
        " 6: [381330, 502476, 570746, 662371, 969525, 382363, 972457],\n",
        " 7: [157316, 822388, 674559, 678052, 437438, 698679, 737993, 118770],\n",
        " 8: [697864, 257347, 783491, 177532, 345696, 622345],\n",
        " 9: [439139, 287976, 831879, 498380, 795880, 637137]}"
      ],
      "metadata": {
        "id": "MWYEafNWId1p"
      },
      "execution_count": 22,
      "outputs": []
    }
  ]
}