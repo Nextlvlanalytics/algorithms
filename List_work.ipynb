{
  "nbformat": 4,
  "nbformat_minor": 0,
  "metadata": {
    "colab": {
      "provenance": [],
      "toc_visible": true,
      "authorship_tag": "ABX9TyPz9JjD2aOtJAIoSTu7czd6",
      "include_colab_link": true
    },
    "kernelspec": {
      "name": "python3",
      "display_name": "Python 3"
    },
    "language_info": {
      "name": "python"
    }
  },
  "cells": [
    {
      "cell_type": "markdown",
      "metadata": {
        "id": "view-in-github",
        "colab_type": "text"
      },
      "source": [
        "<a href=\"https://colab.research.google.com/github/Nextlvlanalytics/algorithms/blob/main/List_work.ipynb\" target=\"_parent\"><img src=\"https://colab.research.google.com/assets/colab-badge.svg\" alt=\"Open In Colab\"/></a>"
      ]
    },
    {
      "cell_type": "code",
      "execution_count": null,
      "metadata": {
        "id": "la9EKjPUgqi9"
      },
      "outputs": [],
      "source": [
        "import pandas as pd\n",
        "import numpy as np\n",
        "import random as random"
      ]
    },
    {
      "cell_type": "code",
      "source": [
        "def dataProcessor(df:pd.DataFrame, cats, values):\n",
        "    master_list = []\n",
        "    md = {}\n",
        "    categories = df[cats].unique() \n",
        "\n",
        "    for category in categories:\n",
        "        tmp = df[df[cats] == category]\n",
        "        ltmp = list(set(tmp[values]))\n",
        "        master_list.append(ltmp)\n",
        "\n",
        "    for lst in master_list:\n",
        "        key = master_list.index(lst)\n",
        "        value = lst\n",
        "        md[key] = value\n",
        "\n",
        "    return md\n"
      ],
      "metadata": {
        "id": "0dGWMVWciFO2"
      },
      "execution_count": null,
      "outputs": []
    },
    {
      "cell_type": "code",
      "source": [
        "mlst = []\n",
        "\n",
        "for i in range(50000):\n",
        "\n",
        "  rdm = random.randint(1,8)\n",
        "  lst = []\n",
        "  for j in range(rdm):\n",
        "\n",
        "\n",
        "    lst.append(random.randint(a=100000, b=999999))\n",
        "  \n",
        "  rdm = random.randint(1,8)\n",
        "  mlst.append(lst)\n",
        "\n",
        "\n",
        "receipts = {mlst.index(lst):lst for lst in mlst}\n",
        "\n",
        "\n"
      ],
      "metadata": {
        "id": "L5yJpzlS-x1l"
      },
      "execution_count": 75,
      "outputs": []
    },
    {
      "cell_type": "code",
      "source": [
        "mlst = []\n",
        "\n",
        "for i in range(100000, 150000):\n",
        "\n",
        "  rdm = random.randint(1,8)\n",
        "  lst = []\n",
        "  for j in range(rdm):\n",
        "\n",
        "    lst.append(random.randint(a=100000, b=999999))\n",
        "  \n",
        "  rdm = random.randint(1,8)\n",
        "  mlst.append(lst)\n",
        "\n",
        "\n",
        "unvouchered = {mlst.index(lst)+10:lst for lst in mlst}\n",
        "\n",
        "# unvouchered.update(receipts)\n",
        "# unvouchered.pop(0)\n",
        "# unvouchered.pop(5)\n",
        "# unvouchered.pop(6)\n",
        "# unvouchered.pop(7)\n",
        "# unvouchered.pop(8)\n",
        "# unvouchered.pop(3)\n"
      ],
      "metadata": {
        "id": "cs5CYgK5DCnH"
      },
      "execution_count": 76,
      "outputs": []
    },
    {
      "cell_type": "code",
      "source": [
        "receipts = {10: [224893],\n",
        " 11: [132109, 840102, 866152, 809401, 558776, 221700, 682223, 540772],\n",
        " 12: [721741, 184054, 957796, 327324, 423214],\n",
        " 13: [514419, 182790, 825516, 162106, 879885, 385059],\n",
        " 14: [933151],\n",
        " 15: [111190, 614361, 287690, 938624, 431609],\n",
        " 16: [540653],\n",
        " 17: [141538, 576858],\n",
        " 18: [274720, 368494, 462421, 622329],\n",
        " 19: [474403, 509709, 913892, 989464],\n",
        " 20: [920013],\n",
        " 21: [362659],\n",
        " 44: [900047, 157216, 810680],\n",
        " 96: [439139, 287976, 831879, 498380, 795880, 637137]}"
      ],
      "metadata": {
        "id": "vz4LqfqGFC3r"
      },
      "execution_count": 66,
      "outputs": []
    },
    {
      "cell_type": "code",
      "source": [
        "chargebacks = {0: [471305, 147156],\n",
        " 1: [920013],\n",
        " 2: [362659],\n",
        " 3: [912228, 994440, 795692, 461620, 605674, 483547, 750505, 775702],\n",
        " 4: [900047, 157216, 810680, 774590, 185209, 590272, 270048, 803467],\n",
        " 5: [877793, 189178, 360703],\n",
        " 6: [381330, 502476, 570746, 662371, 969525, 382363, 972457],\n",
        " 7: [157316, 822388, 674559, 678052, 437438, 698679, 737993, 118770],\n",
        " 8: [697864, 257347, 783491, 177532, 345696, 622345],\n",
        " 9: [439139, 287976, 831879, 498380, 795880, 637137]}"
      ],
      "metadata": {
        "id": "MWYEafNWId1p"
      },
      "execution_count": 67,
      "outputs": []
    },
    {
      "cell_type": "markdown",
      "source": [
        "Goal: I need to compare the contents of chargebacks to receipts such that I can find receipts that have similar item contents for reversal. \n",
        "\n",
        "I can pass receipts and chargebakcs as dictionaries where keys are unique ID's (PO numbers) and values are lists of item SKU's associated with that PO. \n",
        "\n",
        "Intake two dictionaries, output could be a dataframe of receipt PO, chargeback PO, item_list1, item_list2, likeness %. "
      ],
      "metadata": {
        "id": "HiRAp454ZVyz"
      }
    },
    {
      "cell_type": "code",
      "source": [
        "\n",
        "\n",
        "def algo(receipts: dict(), chargebacks: dict()) -> pd.DataFrame:\n",
        "\n",
        "  result = []\n",
        "  for key in receipts:\n",
        "    rec_items = receipts[key]\n",
        "    for keyy in chargebacks:\n",
        "      cb_items = chargebacks[keyy]\n",
        "      validity_array = np.zeros_like(cb_items) # array for accuracy scoring\n",
        "      for product in rec_items: # check if current receipt item is in my current chargeback\n",
        "        if product in cb_items:\n",
        "          validity_array[cb_items.index(product)] = 1 # Where receipt exists in chargeback flip digit to 1 @ index of matched item\n",
        "      acc_score = validity_array.sum() / validity_array.size # calculating match accuracy\n",
        "\n",
        "      result.append([key, rec_items, keyy, cb_items, acc_score])\n",
        "  final_result = pd.DataFrame(result, columns=['receipt_po', 'receipt_items','chargeback_po', 'chargeback_items', 'acc_score'])\n",
        "  \n",
        "  return final_result\n",
        "\n",
        "\n",
        "      \n",
        "\n"
      ],
      "metadata": {
        "id": "_9dsLDuSWev_"
      },
      "execution_count": 61,
      "outputs": []
    },
    {
      "cell_type": "code",
      "source": [
        "%time\n",
        "\n",
        "test = algo(receipts, chargebacks)\n",
        "#test.query(\"acc_score > 0\")"
      ],
      "metadata": {
        "colab": {
          "base_uri": "https://localhost:8080/"
        },
        "id": "-pS56zWcn_n3",
        "outputId": "aa16de7c-db5c-4581-856e-da1c7c033bb1"
      },
      "execution_count": 77,
      "outputs": [
        {
          "output_type": "stream",
          "name": "stdout",
          "text": [
            "CPU times: user 5 µs, sys: 0 ns, total: 5 µs\n",
            "Wall time: 7.87 µs\n"
          ]
        }
      ]
    },
    {
      "cell_type": "code",
      "source": [
        "test"
      ],
      "metadata": {
        "colab": {
          "base_uri": "https://localhost:8080/",
          "height": 565
        },
        "id": "FzgHMEfPwQMF",
        "outputId": "b41e02dc-35a2-48ce-859e-3f4adc6a5453"
      },
      "execution_count": 78,
      "outputs": [
        {
          "output_type": "execute_result",
          "data": {
            "text/plain": [
              "        receipt_po     receipt_items  chargeback_po  \\\n",
              "0                0  [928442, 741725]              0   \n",
              "1                0  [928442, 741725]              1   \n",
              "2                0  [928442, 741725]              2   \n",
              "3                0  [928442, 741725]              3   \n",
              "4                0  [928442, 741725]              4   \n",
              "...            ...               ...            ...   \n",
              "499735       49999  [130917, 638494]              5   \n",
              "499736       49999  [130917, 638494]              6   \n",
              "499737       49999  [130917, 638494]              7   \n",
              "499738       49999  [130917, 638494]              8   \n",
              "499739       49999  [130917, 638494]              9   \n",
              "\n",
              "                                         chargeback_items  acc_score  \n",
              "0                                        [471305, 147156]        0.0  \n",
              "1                                                [920013]        0.0  \n",
              "2                                                [362659]        0.0  \n",
              "3       [912228, 994440, 795692, 461620, 605674, 48354...        0.0  \n",
              "4       [900047, 157216, 810680, 774590, 185209, 59027...        0.0  \n",
              "...                                                   ...        ...  \n",
              "499735                           [877793, 189178, 360703]        0.0  \n",
              "499736  [381330, 502476, 570746, 662371, 969525, 38236...        0.0  \n",
              "499737  [157316, 822388, 674559, 678052, 437438, 69867...        0.0  \n",
              "499738   [697864, 257347, 783491, 177532, 345696, 622345]        0.0  \n",
              "499739   [439139, 287976, 831879, 498380, 795880, 637137]        0.0  \n",
              "\n",
              "[499740 rows x 5 columns]"
            ],
            "text/html": [
              "\n",
              "  <div id=\"df-aedcf968-8384-4540-b35d-9789aa770567\">\n",
              "    <div class=\"colab-df-container\">\n",
              "      <div>\n",
              "<style scoped>\n",
              "    .dataframe tbody tr th:only-of-type {\n",
              "        vertical-align: middle;\n",
              "    }\n",
              "\n",
              "    .dataframe tbody tr th {\n",
              "        vertical-align: top;\n",
              "    }\n",
              "\n",
              "    .dataframe thead th {\n",
              "        text-align: right;\n",
              "    }\n",
              "</style>\n",
              "<table border=\"1\" class=\"dataframe\">\n",
              "  <thead>\n",
              "    <tr style=\"text-align: right;\">\n",
              "      <th></th>\n",
              "      <th>receipt_po</th>\n",
              "      <th>receipt_items</th>\n",
              "      <th>chargeback_po</th>\n",
              "      <th>chargeback_items</th>\n",
              "      <th>acc_score</th>\n",
              "    </tr>\n",
              "  </thead>\n",
              "  <tbody>\n",
              "    <tr>\n",
              "      <th>0</th>\n",
              "      <td>0</td>\n",
              "      <td>[928442, 741725]</td>\n",
              "      <td>0</td>\n",
              "      <td>[471305, 147156]</td>\n",
              "      <td>0.0</td>\n",
              "    </tr>\n",
              "    <tr>\n",
              "      <th>1</th>\n",
              "      <td>0</td>\n",
              "      <td>[928442, 741725]</td>\n",
              "      <td>1</td>\n",
              "      <td>[920013]</td>\n",
              "      <td>0.0</td>\n",
              "    </tr>\n",
              "    <tr>\n",
              "      <th>2</th>\n",
              "      <td>0</td>\n",
              "      <td>[928442, 741725]</td>\n",
              "      <td>2</td>\n",
              "      <td>[362659]</td>\n",
              "      <td>0.0</td>\n",
              "    </tr>\n",
              "    <tr>\n",
              "      <th>3</th>\n",
              "      <td>0</td>\n",
              "      <td>[928442, 741725]</td>\n",
              "      <td>3</td>\n",
              "      <td>[912228, 994440, 795692, 461620, 605674, 48354...</td>\n",
              "      <td>0.0</td>\n",
              "    </tr>\n",
              "    <tr>\n",
              "      <th>4</th>\n",
              "      <td>0</td>\n",
              "      <td>[928442, 741725]</td>\n",
              "      <td>4</td>\n",
              "      <td>[900047, 157216, 810680, 774590, 185209, 59027...</td>\n",
              "      <td>0.0</td>\n",
              "    </tr>\n",
              "    <tr>\n",
              "      <th>...</th>\n",
              "      <td>...</td>\n",
              "      <td>...</td>\n",
              "      <td>...</td>\n",
              "      <td>...</td>\n",
              "      <td>...</td>\n",
              "    </tr>\n",
              "    <tr>\n",
              "      <th>499735</th>\n",
              "      <td>49999</td>\n",
              "      <td>[130917, 638494]</td>\n",
              "      <td>5</td>\n",
              "      <td>[877793, 189178, 360703]</td>\n",
              "      <td>0.0</td>\n",
              "    </tr>\n",
              "    <tr>\n",
              "      <th>499736</th>\n",
              "      <td>49999</td>\n",
              "      <td>[130917, 638494]</td>\n",
              "      <td>6</td>\n",
              "      <td>[381330, 502476, 570746, 662371, 969525, 38236...</td>\n",
              "      <td>0.0</td>\n",
              "    </tr>\n",
              "    <tr>\n",
              "      <th>499737</th>\n",
              "      <td>49999</td>\n",
              "      <td>[130917, 638494]</td>\n",
              "      <td>7</td>\n",
              "      <td>[157316, 822388, 674559, 678052, 437438, 69867...</td>\n",
              "      <td>0.0</td>\n",
              "    </tr>\n",
              "    <tr>\n",
              "      <th>499738</th>\n",
              "      <td>49999</td>\n",
              "      <td>[130917, 638494]</td>\n",
              "      <td>8</td>\n",
              "      <td>[697864, 257347, 783491, 177532, 345696, 622345]</td>\n",
              "      <td>0.0</td>\n",
              "    </tr>\n",
              "    <tr>\n",
              "      <th>499739</th>\n",
              "      <td>49999</td>\n",
              "      <td>[130917, 638494]</td>\n",
              "      <td>9</td>\n",
              "      <td>[439139, 287976, 831879, 498380, 795880, 637137]</td>\n",
              "      <td>0.0</td>\n",
              "    </tr>\n",
              "  </tbody>\n",
              "</table>\n",
              "<p>499740 rows × 5 columns</p>\n",
              "</div>\n",
              "      <button class=\"colab-df-convert\" onclick=\"convertToInteractive('df-aedcf968-8384-4540-b35d-9789aa770567')\"\n",
              "              title=\"Convert this dataframe to an interactive table.\"\n",
              "              style=\"display:none;\">\n",
              "        \n",
              "  <svg xmlns=\"http://www.w3.org/2000/svg\" height=\"24px\"viewBox=\"0 0 24 24\"\n",
              "       width=\"24px\">\n",
              "    <path d=\"M0 0h24v24H0V0z\" fill=\"none\"/>\n",
              "    <path d=\"M18.56 5.44l.94 2.06.94-2.06 2.06-.94-2.06-.94-.94-2.06-.94 2.06-2.06.94zm-11 1L8.5 8.5l.94-2.06 2.06-.94-2.06-.94L8.5 2.5l-.94 2.06-2.06.94zm10 10l.94 2.06.94-2.06 2.06-.94-2.06-.94-.94-2.06-.94 2.06-2.06.94z\"/><path d=\"M17.41 7.96l-1.37-1.37c-.4-.4-.92-.59-1.43-.59-.52 0-1.04.2-1.43.59L10.3 9.45l-7.72 7.72c-.78.78-.78 2.05 0 2.83L4 21.41c.39.39.9.59 1.41.59.51 0 1.02-.2 1.41-.59l7.78-7.78 2.81-2.81c.8-.78.8-2.07 0-2.86zM5.41 20L4 18.59l7.72-7.72 1.47 1.35L5.41 20z\"/>\n",
              "  </svg>\n",
              "      </button>\n",
              "      \n",
              "  <style>\n",
              "    .colab-df-container {\n",
              "      display:flex;\n",
              "      flex-wrap:wrap;\n",
              "      gap: 12px;\n",
              "    }\n",
              "\n",
              "    .colab-df-convert {\n",
              "      background-color: #E8F0FE;\n",
              "      border: none;\n",
              "      border-radius: 50%;\n",
              "      cursor: pointer;\n",
              "      display: none;\n",
              "      fill: #1967D2;\n",
              "      height: 32px;\n",
              "      padding: 0 0 0 0;\n",
              "      width: 32px;\n",
              "    }\n",
              "\n",
              "    .colab-df-convert:hover {\n",
              "      background-color: #E2EBFA;\n",
              "      box-shadow: 0px 1px 2px rgba(60, 64, 67, 0.3), 0px 1px 3px 1px rgba(60, 64, 67, 0.15);\n",
              "      fill: #174EA6;\n",
              "    }\n",
              "\n",
              "    [theme=dark] .colab-df-convert {\n",
              "      background-color: #3B4455;\n",
              "      fill: #D2E3FC;\n",
              "    }\n",
              "\n",
              "    [theme=dark] .colab-df-convert:hover {\n",
              "      background-color: #434B5C;\n",
              "      box-shadow: 0px 1px 3px 1px rgba(0, 0, 0, 0.15);\n",
              "      filter: drop-shadow(0px 1px 2px rgba(0, 0, 0, 0.3));\n",
              "      fill: #FFFFFF;\n",
              "    }\n",
              "  </style>\n",
              "\n",
              "      <script>\n",
              "        const buttonEl =\n",
              "          document.querySelector('#df-aedcf968-8384-4540-b35d-9789aa770567 button.colab-df-convert');\n",
              "        buttonEl.style.display =\n",
              "          google.colab.kernel.accessAllowed ? 'block' : 'none';\n",
              "\n",
              "        async function convertToInteractive(key) {\n",
              "          const element = document.querySelector('#df-aedcf968-8384-4540-b35d-9789aa770567');\n",
              "          const dataTable =\n",
              "            await google.colab.kernel.invokeFunction('convertToInteractive',\n",
              "                                                     [key], {});\n",
              "          if (!dataTable) return;\n",
              "\n",
              "          const docLinkHtml = 'Like what you see? Visit the ' +\n",
              "            '<a target=\"_blank\" href=https://colab.research.google.com/notebooks/data_table.ipynb>data table notebook</a>'\n",
              "            + ' to learn more about interactive tables.';\n",
              "          element.innerHTML = '';\n",
              "          dataTable['output_type'] = 'display_data';\n",
              "          await google.colab.output.renderOutput(dataTable, element);\n",
              "          const docLink = document.createElement('div');\n",
              "          docLink.innerHTML = docLinkHtml;\n",
              "          element.appendChild(docLink);\n",
              "        }\n",
              "      </script>\n",
              "    </div>\n",
              "  </div>\n",
              "  "
            ]
          },
          "metadata": {},
          "execution_count": 78
        }
      ]
    },
    {
      "cell_type": "code",
      "source": [
        "items = [123, 456,789]\n",
        "\n",
        "if 123 in items:\n",
        "  print('yes')\n"
      ],
      "metadata": {
        "colab": {
          "base_uri": "https://localhost:8080/"
        },
        "id": "-iHsyCDvaWsy",
        "outputId": "15658912-33ad-4ab3-9faa-ea7e83e949a5"
      },
      "execution_count": 50,
      "outputs": [
        {
          "output_type": "stream",
          "name": "stdout",
          "text": [
            "yes\n"
          ]
        }
      ]
    },
    {
      "cell_type": "code",
      "source": [
        "v_array = np.zeros_like(items)\n",
        "v_array"
      ],
      "metadata": {
        "colab": {
          "base_uri": "https://localhost:8080/"
        },
        "id": "66pmOzL6emoO",
        "outputId": "4996aa4b-175b-464a-9c14-f1ba58c49b22"
      },
      "execution_count": 46,
      "outputs": [
        {
          "output_type": "execute_result",
          "data": {
            "text/plain": [
              "array([0, 0, 0])"
            ]
          },
          "metadata": {},
          "execution_count": 46
        }
      ]
    },
    {
      "cell_type": "code",
      "source": [
        "if 123 in items:\n",
        "  v_array[items.index(123)] = 1\n",
        "\n",
        "v_array.sum()"
      ],
      "metadata": {
        "colab": {
          "base_uri": "https://localhost:8080/"
        },
        "id": "pwBOB9DThlqh",
        "outputId": "ca3529f6-73c1-4ca4-fe08-a5d28d38d606"
      },
      "execution_count": 60,
      "outputs": [
        {
          "output_type": "execute_result",
          "data": {
            "text/plain": [
              "1"
            ]
          },
          "metadata": {},
          "execution_count": 60
        }
      ]
    },
    {
      "cell_type": "code",
      "source": [
        "result = pd.DataFrame()\n",
        "\n",
        "result.info()"
      ],
      "metadata": {
        "colab": {
          "base_uri": "https://localhost:8080/"
        },
        "id": "jFB2xWcliDXY",
        "outputId": "92273072-dd25-4a6e-fe2b-b0f413be5e36"
      },
      "execution_count": 52,
      "outputs": [
        {
          "output_type": "stream",
          "name": "stdout",
          "text": [
            "<class 'pandas.core.frame.DataFrame'>\n",
            "Index: 0 entries\n",
            "Empty DataFrame"
          ]
        }
      ]
    },
    {
      "cell_type": "code",
      "source": [
        "result = pd.concat([result, )\n",
        "result"
      ],
      "metadata": {
        "colab": {
          "base_uri": "https://localhost:8080/",
          "height": 189
        },
        "id": "lni6DGU4jwtg",
        "outputId": "303502b7-0882-4515-fd1b-285df8c34714"
      },
      "execution_count": 55,
      "outputs": [
        {
          "output_type": "error",
          "ename": "AttributeError",
          "evalue": "ignored",
          "traceback": [
            "\u001b[0;31m---------------------------------------------------------------------------\u001b[0m",
            "\u001b[0;31mAttributeError\u001b[0m                            Traceback (most recent call last)",
            "\u001b[0;32m<ipython-input-55-46ab8c99742d>\u001b[0m in \u001b[0;36m<module>\u001b[0;34m\u001b[0m\n\u001b[0;32m----> 1\u001b[0;31m \u001b[0mresult\u001b[0m \u001b[0;34m=\u001b[0m \u001b[0mpd\u001b[0m\u001b[0;34m.\u001b[0m\u001b[0mconcat\u001b[0m\u001b[0;34m(\u001b[0m\u001b[0;34m[\u001b[0m\u001b[0mresult\u001b[0m\u001b[0;34m,\u001b[0m \u001b[0mitems\u001b[0m\u001b[0;34m.\u001b[0m\u001b[0mvalue\u001b[0m\u001b[0;34m]\u001b[0m\u001b[0;34m)\u001b[0m\u001b[0;34m\u001b[0m\u001b[0;34m\u001b[0m\u001b[0m\n\u001b[0m\u001b[1;32m      2\u001b[0m \u001b[0mresult\u001b[0m\u001b[0;34m\u001b[0m\u001b[0;34m\u001b[0m\u001b[0m\n",
            "\u001b[0;31mAttributeError\u001b[0m: 'list' object has no attribute 'value'"
          ]
        }
      ]
    },
    {
      "cell_type": "code",
      "source": [],
      "metadata": {
        "id": "4214dzOYj3na"
      },
      "execution_count": null,
      "outputs": []
    }
  ]
}